{
 "cells": [
  {
   "cell_type": "code",
   "execution_count": 1,
   "id": "5017406b",
   "metadata": {},
   "outputs": [],
   "source": [
    "import cobra"
   ]
  },
  {
   "cell_type": "code",
   "execution_count": 2,
   "id": "16b37c04",
   "metadata": {},
   "outputs": [],
   "source": [
    "import escher"
   ]
  },
  {
   "cell_type": "code",
   "execution_count": 3,
   "id": "a46ba6cb",
   "metadata": {},
   "outputs": [],
   "source": [
    "from cobra import *"
   ]
  },
  {
   "cell_type": "code",
   "execution_count": 4,
   "id": "04051a68",
   "metadata": {},
   "outputs": [],
   "source": [
    "from escher import Builder"
   ]
  },
  {
   "cell_type": "code",
   "execution_count": 5,
   "id": "ef9baad9",
   "metadata": {},
   "outputs": [],
   "source": [
    "model = Model('Test')"
   ]
  },
  {
   "cell_type": "code",
   "execution_count": 6,
   "id": "91b8253b",
   "metadata": {},
   "outputs": [],
   "source": [
    "GLC = Metabolite('GLC', compartment='c')\n",
    "AA = Metabolite('AA', compartment='c')\n",
    "Biomass = Metabolite('Biomass', compartment='c')"
   ]
  },
  {
   "cell_type": "code",
   "execution_count": 7,
   "id": "a8c70867",
   "metadata": {},
   "outputs": [],
   "source": [
    "######## r0 : ======> GLC\n",
    "r0 = Reaction('r0')\n",
    "r0.name = 'R0'\n",
    "r0.lower_bound = 1\n",
    "r0.upper_bound = 1\n"
   ]
  },
  {
   "cell_type": "code",
   "execution_count": 8,
   "id": "87dad3fa",
   "metadata": {},
   "outputs": [],
   "source": [
    "######## r1 : GLC ======> AA\n",
    "r1 = Reaction('r1')\n",
    "r1.name = 'R1'\n",
    "r1.lower_bound = 0\n",
    "r1.upper_bound = 1000"
   ]
  },
  {
   "cell_type": "code",
   "execution_count": 9,
   "id": "73130f8b",
   "metadata": {},
   "outputs": [],
   "source": [
    "######## r2 : AA ======> Biomass\n",
    "r2 = Reaction('r2')\n",
    "r2.name = 'R2'\n",
    "r2.lower_bound = 0\n",
    "r2.upper_bound = 1000"
   ]
  },
  {
   "cell_type": "code",
   "execution_count": 10,
   "id": "094dd0ec",
   "metadata": {},
   "outputs": [],
   "source": [
    "######## r3 : Biomass ======>\n",
    "r3 = Reaction('r3')\n",
    "r3.name = 'R3'\n",
    "r3.lower_bound = 0\n",
    "r3.upper_bound = 1000"
   ]
  },
  {
   "cell_type": "code",
   "execution_count": 11,
   "id": "8760e003",
   "metadata": {},
   "outputs": [],
   "source": [
    "r0.add_metabolites({GLC: 1})"
   ]
  },
  {
   "cell_type": "code",
   "execution_count": 12,
   "id": "a0303558",
   "metadata": {},
   "outputs": [],
   "source": [
    "r1.add_metabolites({GLC: -1, AA: 1})"
   ]
  },
  {
   "cell_type": "code",
   "execution_count": 13,
   "id": "1c2fcccc",
   "metadata": {},
   "outputs": [],
   "source": [
    "r2.add_metabolites({AA: -9.09, Biomass: 1})"
   ]
  },
  {
   "cell_type": "code",
   "execution_count": 14,
   "id": "fa57cfc3",
   "metadata": {},
   "outputs": [],
   "source": [
    "r3.add_metabolites({Biomass: -1})"
   ]
  },
  {
   "cell_type": "code",
   "execution_count": 15,
   "id": "48cc14ee",
   "metadata": {},
   "outputs": [],
   "source": [
    "model.add_reactions([r0, r1, r2, r3])"
   ]
  },
  {
   "cell_type": "code",
   "execution_count": 16,
   "id": "9ec61106",
   "metadata": {},
   "outputs": [],
   "source": [
    "model.objective = 'r3'"
   ]
  },
  {
   "cell_type": "code",
   "execution_count": 17,
   "id": "b266f4bc",
   "metadata": {},
   "outputs": [
    {
     "data": {
      "text/html": [
       "<strong><em>Optimal</em> solution with objective value 0.110</strong><br><div>\n",
       "<style scoped>\n",
       "    .dataframe tbody tr th:only-of-type {\n",
       "        vertical-align: middle;\n",
       "    }\n",
       "\n",
       "    .dataframe tbody tr th {\n",
       "        vertical-align: top;\n",
       "    }\n",
       "\n",
       "    .dataframe thead th {\n",
       "        text-align: right;\n",
       "    }\n",
       "</style>\n",
       "<table border=\"1\" class=\"dataframe\">\n",
       "  <thead>\n",
       "    <tr style=\"text-align: right;\">\n",
       "      <th></th>\n",
       "      <th>fluxes</th>\n",
       "      <th>reduced_costs</th>\n",
       "    </tr>\n",
       "  </thead>\n",
       "  <tbody>\n",
       "    <tr>\n",
       "      <th>r0</th>\n",
       "      <td>1.000000</td>\n",
       "      <td>0.220022</td>\n",
       "    </tr>\n",
       "    <tr>\n",
       "      <th>r1</th>\n",
       "      <td>1.000000</td>\n",
       "      <td>0.000000</td>\n",
       "    </tr>\n",
       "    <tr>\n",
       "      <th>r2</th>\n",
       "      <td>0.110011</td>\n",
       "      <td>0.000000</td>\n",
       "    </tr>\n",
       "    <tr>\n",
       "      <th>r3</th>\n",
       "      <td>0.110011</td>\n",
       "      <td>0.000000</td>\n",
       "    </tr>\n",
       "  </tbody>\n",
       "</table>\n",
       "</div>"
      ],
      "text/plain": [
       "<Solution 0.110 at 0x1c06310a130>"
      ]
     },
     "execution_count": 17,
     "metadata": {},
     "output_type": "execute_result"
    }
   ],
   "source": [
    "model.optimize()"
   ]
  },
  {
   "cell_type": "code",
   "execution_count": 18,
   "id": "f6e32e22",
   "metadata": {},
   "outputs": [
    {
     "data": {
      "text/html": [
       "<h3>Objective</h3><p>1.0 r3 = 0.11001100110011001</p><h4>Uptake</h4><table border=\"1\" class=\"dataframe\">\n",
       "  <thead>\n",
       "    <tr style=\"text-align: right;\">\n",
       "      <th>Metabolite</th>\n",
       "      <th>Reaction</th>\n",
       "      <th>Flux</th>\n",
       "      <th>C-Number</th>\n",
       "      <th>C-Flux</th>\n",
       "    </tr>\n",
       "  </thead>\n",
       "  <tbody>\n",
       "    <tr>\n",
       "      <td>GLC</td>\n",
       "      <td>r0</td>\n",
       "      <td>1</td>\n",
       "      <td>0</td>\n",
       "      <td>0.00%</td>\n",
       "    </tr>\n",
       "  </tbody>\n",
       "</table><h4>Secretion</h4><table border=\"1\" class=\"dataframe\">\n",
       "  <thead>\n",
       "    <tr style=\"text-align: right;\">\n",
       "      <th>Metabolite</th>\n",
       "      <th>Reaction</th>\n",
       "      <th>Flux</th>\n",
       "      <th>C-Number</th>\n",
       "      <th>C-Flux</th>\n",
       "    </tr>\n",
       "  </thead>\n",
       "  <tbody>\n",
       "    <tr>\n",
       "      <td>Biomass</td>\n",
       "      <td>r3</td>\n",
       "      <td>-0.11</td>\n",
       "      <td>0</td>\n",
       "      <td>0.00%</td>\n",
       "    </tr>\n",
       "  </tbody>\n",
       "</table>"
      ],
      "text/plain": [
       "<cobra.summary.model_summary.ModelSummary at 0x1c06310a910>"
      ]
     },
     "execution_count": 18,
     "metadata": {},
     "output_type": "execute_result"
    }
   ],
   "source": [
    "model.summary()"
   ]
  },
  {
   "cell_type": "code",
   "execution_count": 19,
   "id": "ea6a4858",
   "metadata": {},
   "outputs": [],
   "source": [
    "cobra.io.save_json_model(model, \"task2.json\")"
   ]
  },
  {
   "cell_type": "code",
   "execution_count": 20,
   "id": "95bb40dd",
   "metadata": {},
   "outputs": [],
   "source": [
    "builder = Builder(model_json=\"task2.json\")"
   ]
  },
  {
   "cell_type": "code",
   "execution_count": 21,
   "id": "2bfda7ec",
   "metadata": {},
   "outputs": [
    {
     "data": {
      "application/vnd.jupyter.widget-view+json": {
       "model_id": "5e1875eca79d455ba5d29964fa6248c1",
       "version_major": 2,
       "version_minor": 0
      },
      "text/plain": [
       "Builder()"
      ]
     },
     "metadata": {},
     "output_type": "display_data"
    }
   ],
   "source": [
    "builder"
   ]
  },
  {
   "cell_type": "code",
   "execution_count": null,
   "id": "317e2c30",
   "metadata": {},
   "outputs": [],
   "source": []
  }
 ],
 "metadata": {
  "kernelspec": {
   "display_name": "Python 3 (ipykernel)",
   "language": "python",
   "name": "python3"
  },
  "language_info": {
   "codemirror_mode": {
    "name": "ipython",
    "version": 3
   },
   "file_extension": ".py",
   "mimetype": "text/x-python",
   "name": "python",
   "nbconvert_exporter": "python",
   "pygments_lexer": "ipython3",
   "version": "3.9.7"
  }
 },
 "nbformat": 4,
 "nbformat_minor": 5
}
